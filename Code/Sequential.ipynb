{
  "nbformat": 4,
  "nbformat_minor": 0,
  "metadata": {
    "colab": {
      "provenance": []
    },
    "kernelspec": {
      "name": "python3",
      "display_name": "Python 3"
    },
    "language_info": {
      "name": "python"
    }
  },
  "cells": [
    {
      "cell_type": "code",
      "execution_count": null,
      "metadata": {
        "id": "ukzG1hn3_EfB"
      },
      "outputs": [],
      "source": [
        "%%writefile Sequential.cu\n",
        "#include <stdio.h>\n",
        "#include <malloc.h>\n",
        "#include <math.h>\n",
        "#define Nx 16\n",
        "#define Ny 16\n",
        "#define Nt 21\n",
        "#define dxy 0.1\n",
        "#define dt 0.01\n",
        "//==============================\n",
        "float funct1(int i, int j) {\n",
        "  return sin(M_PI*(i*dxy + j*dxy));\n",
        "}\n",
        "float funct2(int i, int j) {\n",
        "  return cos(M_PI*(i*dxy + j*dxy));\n",
        "}\n",
        "//==============================\n",
        "void InputData(float *U, float *V, float *C) {\n",
        "  int i,j,k;\n",
        "  for (j=0; j<Ny; j++) {\n",
        "    for (i=0; i<Nx; i++) {\n",
        "      *(U + j*Nx + i) = funct1(i,j);\n",
        "      *(V + j*Nx + i) = dt*funct2(i,j) + *(U + j*Nx + i);\n",
        "    }\n",
        "  }\n",
        "  for (k=0; k<Nt; k++) {\n",
        "    *(C+k) = 1/2;\n",
        "  }\n",
        "}\n",
        "//===============================\n",
        "void Computing(float *U, float *V, float *C) {\n",
        "  int i,j,k, nt_half;\n",
        "  float left, right, bottom, top, center1, center2;\n",
        "  nt_half = (Nt+1)/2;\n",
        "  for (k=1; k<nt_half; k++){\n",
        "    for (j=0; j<Ny; j++) {\n",
        "      for (i=0; i<Nx; i++) {\n",
        "        left  =  (i == 0)    ? 0 : *(V + j * Nx + i-1);\n",
        "        right =  (i == Nx-1) ? 0 : *(V + j * Nx + i+1);\n",
        "        bottom = (j == 0)    ? 0 : *(V + (j+1) * Nx + i);\n",
        "        top   =  (j == Nx-1) ? 0 : *(V + (j-1) * Nx + i);\n",
        "        center1 = *(V + j * Nx + i);\n",
        "        center2 = *(U + j * Nx + i);\n",
        "        *(U + j * Nx + i) = 2*center1 - center2 + ((dt * dt * (*(C + k)) * (*(C + k))) / (dxy * dxy)) * (left + right + bottom + top - 4*center1);\n",
        "      }\n",
        "    }\n",
        "    for (j=0; j<Ny; j++) {\n",
        "      for (i=0; i<Nx; i++) {\n",
        "        left  =  (i == 0)    ? 0 : *(U + j * Nx + i-1);\n",
        "        right =  (i == Nx-1) ? 0 : *(U + j * Nx + i+1);\n",
        "        bottom = (j == 0)    ? 0 : *(U + (j-1) * Nx + i);\n",
        "        top   =  (j == Nx-1) ? 0 : *(U + (j+1) * Nx + i);\n",
        "        center1 = *(U + j * Nx + i);\n",
        "        center2 = *(V + j * Nx + i);\n",
        "        *(V + j * Nx + i) = 2*center1 - center2 + ((dt * dt * (*(C + k)) * (*(C + k))) / (dxy * dxy)) * (left + right + bottom + top - 4*center1);\n",
        "      }\n",
        "    }\n",
        "  }\n",
        "}\n",
        "//===============================\n",
        "int main() {\n",
        "  float *U, *V, *C;\n",
        "  U = (float *) malloc (Nx*Ny*sizeof(float));\n",
        "  V = (float *) malloc (Nx*Ny*sizeof(float));\n",
        "  C = (float *) malloc (Nt*sizeof(float));\n",
        "  InputData(U, V, C);\n",
        "  Computing(U, V, C);\n",
        "  int i, j;\n",
        "  if (Nt%2 == 1) {\n",
        "    for (i=0; i<Nx; i++) {\n",
        "      for (j=0; j<Ny; j++) {\n",
        "        printf(\"%f \", *(U + j*Nx + i));\n",
        "      }\n",
        "      printf(\"\\n\");\n",
        "    }\n",
        "  }\n",
        "  else {\n",
        "    for (i=0; i<Nx; i++) {\n",
        "      for (j=0; j<Ny; j++) {\n",
        "        printf(\"%f \", *(V + j*Nx + i));\n",
        "      }\n",
        "      printf(\"\\n\");\n",
        "    }\n",
        "  }\n",
        "}"
      ]
    },
    {
      "cell_type": "code",
      "source": [
        "!nvcc Sequential.cu -lm"
      ],
      "metadata": {
        "id": "UFopFSTV_l2l"
      },
      "execution_count": 59,
      "outputs": []
    },
    {
      "cell_type": "code",
      "source": [
        "!./a.out"
      ],
      "metadata": {
        "id": "024C7ILT_obT"
      },
      "execution_count": null,
      "outputs": []
    }
  ]
}